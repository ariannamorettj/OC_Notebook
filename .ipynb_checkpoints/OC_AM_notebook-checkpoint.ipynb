{
 "cells": [
  {
   "cell_type": "markdown",
   "metadata": {},
   "source": [
    "# OpenCitations Notebook\n",
    "### Arianna Moretti"
   ]
  },
  {
   "cell_type": "markdown",
   "metadata": {},
   "source": [
    "## Table of Contents\n",
    "\n",
    "#### 2022\n",
    "\n",
    "1. [22/02 - 02/03 (Log Data Study)](#entry_1)\n",
    "2. [02/03 - 09/03 (OC Index Software Code Refactoring - NOCI + Mapping Merge)](#entry_2)\n",
    "3. [09/03 - 15/03 (Log Data Visualization d3.js)](#entry_3)\n",
    "4. [15/03 - 22/03 (????)](#entry_4)\n",
    "\n",
    "#### 202*\n",
    "\n",
    "5. [??/?? - ??/?? (????)](#entry_5)"
   ]
  },
  {
   "cell_type": "markdown",
   "metadata": {},
   "source": [
    "# 22/02 - 02/03 (Log Data Study) <a class=\"anchor\" id=\"entry_1\"></a>\n",
    "\n",
    "### Studio Files di Log Raw\n",
    "\n",
    "<ul>\n",
    "    <li>Download cartella Dropbox con file di log raw per 2021</li>\n",
    "    <li>Studio dei dati statistici: <a href=\"https://github.com/opencitations/statistics/tree/master/script\">opencitations statistics repo </a> </li>\n",
    "    <li>Studio del file format Prometheus: <a href=\"https://sysdig.com/blog/prometheus-metrics/\"> https://sysdig.com/blog/prometheus-metrics/</a>, <a href=\"https://prometheus.io/docs/instrumenting/clientlibs/\"> https://prometheus.io/docs/instrumenting/clientlibs/</a>\n",
    "    <li>Esempio di <a href=\"http://opencitations.net/statistics/2022-01\">call API per i dati di Log di Gennaio 2021</a> </li>\n",
    "</ul>\n",
    "\n",
    "#### Prometheus File Format\n",
    "Prometheus is an open source time series database including a collection of client libraries which allow metrics to be published, so to be collected by the metrics server. The Prometheus metrics format is largely adopted and became also an independent project: OpenMetrics, aimed at making this metric format specification a standard. Sysdig Monitor dynamically detects and scrape Prometheus metrics.\n",
    "##### Custom Metrics\n",
    "Source: <a href=\"https://sysdig.com/blog/how-to-instrument-code-custom-metrics-vs-apm-vs-opentracing/\">href=\"https://sysdig.com/blog/how-to-instrument-code-custom-metrics-vs-apm-vs-opentracing/</a>\n",
    "Custom Metrics (JMX, Golang expvar, Prometheus, statsd...) is an approach on how to instrument code to easily monitor the performance and troubleshooting of an application. Typical aspects to be monitored are: the most visited components a web page, the slowest components to load, the difference of speed in loading the frontend and the backend, which factors affect the speed of the process (location, browser, device). The options to monitor those aspects are: using an APM instrument, using OpenTracing libraries, or generating metrics ad-hoc for specific components.\n",
    "\n",
    "##### Comparison between CM, APM and Opentracing\n",
    "\n",
    "|Issue | Custom Metrics | APM | Opentracing |\n",
    "| --- | --- | --- | --- |\n",
    "| Code-related problems | Devs need to provide metrics with performance in code but are not as easy to identify | Yes | Yes |\n",
    "| Infrastructure-related problems | Yes | No | No |\n",
    "| Node and service level aggregation | Yes | No | No |\n",
    "| Standard implementaton | Some languages include a standard way to implement them: (Prometheus, Java JMX, Go expvar, …) | No | Yes |\n",
    "| Allows capacity planning | Yes | No | No |\n",
    "| Allows complete statistical measurements | Yes | No | No |\n",
    "| Cloud Native Computing Foundation standard | Prometheus metrics only | No | Yes |\n",
    "| Distributed application analysis | Yes, without per trace analysis | Yes | Yes |\n",
    "| Useful for developers for pre-production environments | Yes | Yes | Yes |\n",
    "| Useful for complete DevOps strategy | Yes | No | No |\n",
    "\n",
    "##### Metrics notations: dot notation vs multi-dimensional tagged metrics\n",
    "Source: <a href=\"https://sysdig.com/blog/prometheus-metrics/\">https://sysdig.com/blog/prometheus-metrics/</a>\n",
    "For Python we need the third-party library Prometheu to feed the monitoring system.\n",
    "There are two main paradigms to represent a metric: <b>dot notation</b> and <b>multi-dimensional tagged metrics</b>.\n",
    "In a dot-notated metric, data are provided in dot-separated format in the name of the metric, which determine the detail and the hierarchy needed. The arrangement of the metric depends on the piece of information needed. \n",
    "In Prometheus metric format a flat approach is adopted to metrics naming. Instead of a hierarchical, dot separated name, there are names combined with a series of labels or tags. \"Highly dimensional data\" imply the possibility to associate any number of context-specific labels to every submitted metric.\n",
    "\n",
    "##### Prometheus metrics (OpenMetrics)\n",
    "Prometheus metrics format is line oriented: lines are separated by a line feed character (n), and the last line must end with a line feed character, while empty lines are somply ignored.\n",
    "\n",
    "A metric is composed by the (optional) components below:\n",
    "\n",
    "<ul>\n",
    "    <li>Metric name</li>\n",
    "    <li>Any number of labels (can be 0), represented as a key-value array</li>\n",
    "    <li>Current metric value</li>\n",
    "    <li>Optional metric timestamp</li>\n",
    "</ul>\n",
    "\n",
    "Metric output is typically preceded with **# HELP** and **# TYPE** metadata lines.\n",
    "The HELP string identifies the metric name and a brief description of it. The TYPE string identifies the type of metric. If there’s no TYPE before a metric, the metric is set to untyped. Everything else that starts with a # is parsed as a comment.\n",
    "\n",
    "(**continua*)\n",
    "\n",
    "##### Implement Prometheus custom metric instrumentation in Python\n",
    "\n"
   ]
  },
  {
   "cell_type": "markdown",
   "metadata": {},
   "source": [
    "## 02/03 - 09/03 (OC Index Software Code Refactoring - NOCI + Mapping Merge) <a class=\"anchor\" id=\"entry_2\"></a>\n",
    "\n",
    "Lorem Ipsum"
   ]
  },
  {
   "cell_type": "markdown",
   "metadata": {},
   "source": [
    "## 09/03 - 15/03 (Log Data Visualization d3.js) <a class=\"anchor\" id=\"entry_3\"></a>\n",
    "\n",
    "Lorem Ipsum\n"
   ]
  },
  {
   "cell_type": "markdown",
   "metadata": {},
   "source": [
    "## 15/03 - 22/03 (????) <a class=\"anchor\" id=\"entry_4\"></a>\n",
    "\n",
    "Lorem Ipsum"
   ]
  },
  {
   "cell_type": "markdown",
   "metadata": {},
   "source": [
    "## ??/?? - ??/?? (????) <a class=\"anchor\" id=\"entry_5\"></a>\n",
    "????????"
   ]
  }
 ],
 "metadata": {
  "kernelspec": {
   "display_name": "Python 3",
   "language": "python",
   "name": "python3"
  },
  "language_info": {
   "codemirror_mode": {
    "name": "ipython",
    "version": 3
   },
   "file_extension": ".py",
   "mimetype": "text/x-python",
   "name": "python",
   "nbconvert_exporter": "python",
   "pygments_lexer": "ipython3",
   "version": "3.6.3"
  }
 },
 "nbformat": 4,
 "nbformat_minor": 2
}
